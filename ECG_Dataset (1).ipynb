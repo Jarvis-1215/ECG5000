{
  "nbformat": 4,
  "nbformat_minor": 0,
  "metadata": {
    "colab": {
      "name": "ECG Dataset.ipynb",
      "provenance": [],
      "collapsed_sections": [],
      "toc_visible": true
    },
    "kernelspec": {
      "name": "python3",
      "display_name": "Python 3"
    },
    "accelerator": "GPU"
  },
  "cells": [
    {
      "cell_type": "markdown",
      "metadata": {
        "id": "iie0J0eG2lpq"
      },
      "source": [
        "### Test on ECG Data"
      ]
    },
    {
      "cell_type": "markdown",
      "metadata": {
        "id": "pf_FvZEo2q2V"
      },
      "source": [
        "The dataset you will use is based on one from [timeseriesclassification.com](http://www.timeseriesclassification.com/description.php?Dataset=ECG5000).\r\n",
        "\r\n",
        "Try to design and train your MLP to classify normal and abnormal ECG samples."
      ]
    },
    {
      "cell_type": "code",
      "metadata": {
        "colab": {
          "base_uri": "https://localhost:8080/",
          "height": 247
        },
        "id": "bCR8anTz25Wy",
        "outputId": "184aa0aa-b607-4880-b215-a1faca589a8b"
      },
      "source": [
        "import matplotlib.pyplot as plt\r\n",
        "import numpy as np\r\n",
        "import pandas as pd\r\n",
        "import random\r\n",
        "random.seed(123)\r\n",
        "from sklearn.metrics import accuracy_score, precision_score, recall_score\r\n",
        "from sklearn.model_selection import train_test_split\r\n",
        "from tensorflow.keras import layers, losses\r\n",
        "from tensorflow.keras.datasets import fashion_mnist\r\n",
        "from tensorflow.keras.models import Model\r\n",
        "\r\n",
        "\r\n",
        "# Download the dataset\r\n",
        "dataframe = pd.read_csv('http://storage.googleapis.com/download.tensorflow.org/data/ecg.csv', header=None)\r\n",
        "raw_data = dataframe.values\r\n",
        "dataframe.head()\r\n"
      ],
      "execution_count": 1,
      "outputs": [
        {
          "output_type": "execute_result",
          "data": {
            "text/html": [
              "<div>\n",
              "<style scoped>\n",
              "    .dataframe tbody tr th:only-of-type {\n",
              "        vertical-align: middle;\n",
              "    }\n",
              "\n",
              "    .dataframe tbody tr th {\n",
              "        vertical-align: top;\n",
              "    }\n",
              "\n",
              "    .dataframe thead th {\n",
              "        text-align: right;\n",
              "    }\n",
              "</style>\n",
              "<table border=\"1\" class=\"dataframe\">\n",
              "  <thead>\n",
              "    <tr style=\"text-align: right;\">\n",
              "      <th></th>\n",
              "      <th>0</th>\n",
              "      <th>1</th>\n",
              "      <th>2</th>\n",
              "      <th>3</th>\n",
              "      <th>4</th>\n",
              "      <th>5</th>\n",
              "      <th>6</th>\n",
              "      <th>7</th>\n",
              "      <th>8</th>\n",
              "      <th>9</th>\n",
              "      <th>10</th>\n",
              "      <th>11</th>\n",
              "      <th>12</th>\n",
              "      <th>13</th>\n",
              "      <th>14</th>\n",
              "      <th>15</th>\n",
              "      <th>16</th>\n",
              "      <th>17</th>\n",
              "      <th>18</th>\n",
              "      <th>19</th>\n",
              "      <th>20</th>\n",
              "      <th>21</th>\n",
              "      <th>22</th>\n",
              "      <th>23</th>\n",
              "      <th>24</th>\n",
              "      <th>25</th>\n",
              "      <th>26</th>\n",
              "      <th>27</th>\n",
              "      <th>28</th>\n",
              "      <th>29</th>\n",
              "      <th>30</th>\n",
              "      <th>31</th>\n",
              "      <th>32</th>\n",
              "      <th>33</th>\n",
              "      <th>34</th>\n",
              "      <th>35</th>\n",
              "      <th>36</th>\n",
              "      <th>37</th>\n",
              "      <th>38</th>\n",
              "      <th>39</th>\n",
              "      <th>...</th>\n",
              "      <th>101</th>\n",
              "      <th>102</th>\n",
              "      <th>103</th>\n",
              "      <th>104</th>\n",
              "      <th>105</th>\n",
              "      <th>106</th>\n",
              "      <th>107</th>\n",
              "      <th>108</th>\n",
              "      <th>109</th>\n",
              "      <th>110</th>\n",
              "      <th>111</th>\n",
              "      <th>112</th>\n",
              "      <th>113</th>\n",
              "      <th>114</th>\n",
              "      <th>115</th>\n",
              "      <th>116</th>\n",
              "      <th>117</th>\n",
              "      <th>118</th>\n",
              "      <th>119</th>\n",
              "      <th>120</th>\n",
              "      <th>121</th>\n",
              "      <th>122</th>\n",
              "      <th>123</th>\n",
              "      <th>124</th>\n",
              "      <th>125</th>\n",
              "      <th>126</th>\n",
              "      <th>127</th>\n",
              "      <th>128</th>\n",
              "      <th>129</th>\n",
              "      <th>130</th>\n",
              "      <th>131</th>\n",
              "      <th>132</th>\n",
              "      <th>133</th>\n",
              "      <th>134</th>\n",
              "      <th>135</th>\n",
              "      <th>136</th>\n",
              "      <th>137</th>\n",
              "      <th>138</th>\n",
              "      <th>139</th>\n",
              "      <th>140</th>\n",
              "    </tr>\n",
              "  </thead>\n",
              "  <tbody>\n",
              "    <tr>\n",
              "      <th>0</th>\n",
              "      <td>-0.112522</td>\n",
              "      <td>-2.827204</td>\n",
              "      <td>-3.773897</td>\n",
              "      <td>-4.349751</td>\n",
              "      <td>-4.376041</td>\n",
              "      <td>-3.474986</td>\n",
              "      <td>-2.181408</td>\n",
              "      <td>-1.818287</td>\n",
              "      <td>-1.250522</td>\n",
              "      <td>-0.477492</td>\n",
              "      <td>-0.363808</td>\n",
              "      <td>-0.491957</td>\n",
              "      <td>-0.421855</td>\n",
              "      <td>-0.309201</td>\n",
              "      <td>-0.495939</td>\n",
              "      <td>-0.342119</td>\n",
              "      <td>-0.355336</td>\n",
              "      <td>-0.367913</td>\n",
              "      <td>-0.316503</td>\n",
              "      <td>-0.412374</td>\n",
              "      <td>-0.471672</td>\n",
              "      <td>-0.413458</td>\n",
              "      <td>-0.364617</td>\n",
              "      <td>-0.449298</td>\n",
              "      <td>-0.471419</td>\n",
              "      <td>-0.424777</td>\n",
              "      <td>-0.462517</td>\n",
              "      <td>-0.552472</td>\n",
              "      <td>-0.475375</td>\n",
              "      <td>-0.694200</td>\n",
              "      <td>-0.701868</td>\n",
              "      <td>-0.593812</td>\n",
              "      <td>-0.660684</td>\n",
              "      <td>-0.713831</td>\n",
              "      <td>-0.769807</td>\n",
              "      <td>-0.672282</td>\n",
              "      <td>-0.653676</td>\n",
              "      <td>-0.639406</td>\n",
              "      <td>-0.559302</td>\n",
              "      <td>-0.591670</td>\n",
              "      <td>...</td>\n",
              "      <td>1.258179</td>\n",
              "      <td>1.433789</td>\n",
              "      <td>1.700533</td>\n",
              "      <td>1.999043</td>\n",
              "      <td>2.125341</td>\n",
              "      <td>1.993291</td>\n",
              "      <td>1.932246</td>\n",
              "      <td>1.797437</td>\n",
              "      <td>1.522284</td>\n",
              "      <td>1.251168</td>\n",
              "      <td>0.998730</td>\n",
              "      <td>0.483722</td>\n",
              "      <td>0.023132</td>\n",
              "      <td>-0.194914</td>\n",
              "      <td>-0.220917</td>\n",
              "      <td>-0.243737</td>\n",
              "      <td>-0.254695</td>\n",
              "      <td>-0.291136</td>\n",
              "      <td>-0.256490</td>\n",
              "      <td>-0.227874</td>\n",
              "      <td>-0.322423</td>\n",
              "      <td>-0.289286</td>\n",
              "      <td>-0.318170</td>\n",
              "      <td>-0.363654</td>\n",
              "      <td>-0.393456</td>\n",
              "      <td>-0.266419</td>\n",
              "      <td>-0.256823</td>\n",
              "      <td>-0.288694</td>\n",
              "      <td>-0.162338</td>\n",
              "      <td>0.160348</td>\n",
              "      <td>0.792168</td>\n",
              "      <td>0.933541</td>\n",
              "      <td>0.796958</td>\n",
              "      <td>0.578621</td>\n",
              "      <td>0.257740</td>\n",
              "      <td>0.228077</td>\n",
              "      <td>0.123431</td>\n",
              "      <td>0.925286</td>\n",
              "      <td>0.193137</td>\n",
              "      <td>1.0</td>\n",
              "    </tr>\n",
              "    <tr>\n",
              "      <th>1</th>\n",
              "      <td>-1.100878</td>\n",
              "      <td>-3.996840</td>\n",
              "      <td>-4.285843</td>\n",
              "      <td>-4.506579</td>\n",
              "      <td>-4.022377</td>\n",
              "      <td>-3.234368</td>\n",
              "      <td>-1.566126</td>\n",
              "      <td>-0.992258</td>\n",
              "      <td>-0.754680</td>\n",
              "      <td>0.042321</td>\n",
              "      <td>0.148951</td>\n",
              "      <td>0.183527</td>\n",
              "      <td>0.294876</td>\n",
              "      <td>0.190233</td>\n",
              "      <td>0.235575</td>\n",
              "      <td>0.253487</td>\n",
              "      <td>0.221742</td>\n",
              "      <td>0.050233</td>\n",
              "      <td>0.178042</td>\n",
              "      <td>0.139563</td>\n",
              "      <td>0.046794</td>\n",
              "      <td>0.043007</td>\n",
              "      <td>0.106544</td>\n",
              "      <td>0.012654</td>\n",
              "      <td>0.003995</td>\n",
              "      <td>0.045724</td>\n",
              "      <td>-0.045999</td>\n",
              "      <td>-0.072667</td>\n",
              "      <td>-0.071078</td>\n",
              "      <td>-0.153866</td>\n",
              "      <td>-0.227254</td>\n",
              "      <td>-0.249270</td>\n",
              "      <td>-0.253489</td>\n",
              "      <td>-0.332835</td>\n",
              "      <td>-0.264330</td>\n",
              "      <td>-0.345825</td>\n",
              "      <td>-0.310781</td>\n",
              "      <td>-0.334160</td>\n",
              "      <td>-0.306178</td>\n",
              "      <td>-0.174563</td>\n",
              "      <td>...</td>\n",
              "      <td>1.808428</td>\n",
              "      <td>2.164346</td>\n",
              "      <td>2.070747</td>\n",
              "      <td>1.903614</td>\n",
              "      <td>1.764455</td>\n",
              "      <td>1.507769</td>\n",
              "      <td>1.293428</td>\n",
              "      <td>0.894562</td>\n",
              "      <td>0.578016</td>\n",
              "      <td>0.244343</td>\n",
              "      <td>-0.286443</td>\n",
              "      <td>-0.515881</td>\n",
              "      <td>-0.732707</td>\n",
              "      <td>-0.832465</td>\n",
              "      <td>-0.803318</td>\n",
              "      <td>-0.836252</td>\n",
              "      <td>-0.777865</td>\n",
              "      <td>-0.774753</td>\n",
              "      <td>-0.733404</td>\n",
              "      <td>-0.721386</td>\n",
              "      <td>-0.832095</td>\n",
              "      <td>-0.711982</td>\n",
              "      <td>-0.751867</td>\n",
              "      <td>-0.757720</td>\n",
              "      <td>-0.853120</td>\n",
              "      <td>-0.766988</td>\n",
              "      <td>-0.688161</td>\n",
              "      <td>-0.519923</td>\n",
              "      <td>0.039406</td>\n",
              "      <td>0.560327</td>\n",
              "      <td>0.538356</td>\n",
              "      <td>0.656881</td>\n",
              "      <td>0.787490</td>\n",
              "      <td>0.724046</td>\n",
              "      <td>0.555784</td>\n",
              "      <td>0.476333</td>\n",
              "      <td>0.773820</td>\n",
              "      <td>1.119621</td>\n",
              "      <td>-1.436250</td>\n",
              "      <td>1.0</td>\n",
              "    </tr>\n",
              "    <tr>\n",
              "      <th>2</th>\n",
              "      <td>-0.567088</td>\n",
              "      <td>-2.593450</td>\n",
              "      <td>-3.874230</td>\n",
              "      <td>-4.584095</td>\n",
              "      <td>-4.187449</td>\n",
              "      <td>-3.151462</td>\n",
              "      <td>-1.742940</td>\n",
              "      <td>-1.490658</td>\n",
              "      <td>-1.183580</td>\n",
              "      <td>-0.394229</td>\n",
              "      <td>-0.282897</td>\n",
              "      <td>-0.356926</td>\n",
              "      <td>-0.287297</td>\n",
              "      <td>-0.399489</td>\n",
              "      <td>-0.473244</td>\n",
              "      <td>-0.379048</td>\n",
              "      <td>-0.399039</td>\n",
              "      <td>-0.178594</td>\n",
              "      <td>-0.339522</td>\n",
              "      <td>-0.498447</td>\n",
              "      <td>-0.337251</td>\n",
              "      <td>-0.425480</td>\n",
              "      <td>-0.423952</td>\n",
              "      <td>-0.463170</td>\n",
              "      <td>-0.493253</td>\n",
              "      <td>-0.549749</td>\n",
              "      <td>-0.529831</td>\n",
              "      <td>-0.530935</td>\n",
              "      <td>-0.502365</td>\n",
              "      <td>-0.417368</td>\n",
              "      <td>-0.526346</td>\n",
              "      <td>-0.471005</td>\n",
              "      <td>-0.676784</td>\n",
              "      <td>-0.898612</td>\n",
              "      <td>-0.610571</td>\n",
              "      <td>-0.530164</td>\n",
              "      <td>-0.765674</td>\n",
              "      <td>-0.581937</td>\n",
              "      <td>-0.537848</td>\n",
              "      <td>-0.556386</td>\n",
              "      <td>...</td>\n",
              "      <td>1.810988</td>\n",
              "      <td>2.185398</td>\n",
              "      <td>2.262985</td>\n",
              "      <td>2.052920</td>\n",
              "      <td>1.890488</td>\n",
              "      <td>1.793033</td>\n",
              "      <td>1.564784</td>\n",
              "      <td>1.234619</td>\n",
              "      <td>0.900302</td>\n",
              "      <td>0.551957</td>\n",
              "      <td>0.258222</td>\n",
              "      <td>-0.128587</td>\n",
              "      <td>-0.092585</td>\n",
              "      <td>-0.168606</td>\n",
              "      <td>-0.495989</td>\n",
              "      <td>-0.395034</td>\n",
              "      <td>-0.328238</td>\n",
              "      <td>-0.448138</td>\n",
              "      <td>-0.268230</td>\n",
              "      <td>-0.456415</td>\n",
              "      <td>-0.357867</td>\n",
              "      <td>-0.317508</td>\n",
              "      <td>-0.434112</td>\n",
              "      <td>-0.549203</td>\n",
              "      <td>-0.324615</td>\n",
              "      <td>-0.268082</td>\n",
              "      <td>-0.220384</td>\n",
              "      <td>-0.117429</td>\n",
              "      <td>0.614059</td>\n",
              "      <td>1.284825</td>\n",
              "      <td>0.886073</td>\n",
              "      <td>0.531452</td>\n",
              "      <td>0.311377</td>\n",
              "      <td>-0.021919</td>\n",
              "      <td>-0.713683</td>\n",
              "      <td>-0.532197</td>\n",
              "      <td>0.321097</td>\n",
              "      <td>0.904227</td>\n",
              "      <td>-0.421797</td>\n",
              "      <td>1.0</td>\n",
              "    </tr>\n",
              "    <tr>\n",
              "      <th>3</th>\n",
              "      <td>0.490473</td>\n",
              "      <td>-1.914407</td>\n",
              "      <td>-3.616364</td>\n",
              "      <td>-4.318823</td>\n",
              "      <td>-4.268016</td>\n",
              "      <td>-3.881110</td>\n",
              "      <td>-2.993280</td>\n",
              "      <td>-1.671131</td>\n",
              "      <td>-1.333884</td>\n",
              "      <td>-0.965629</td>\n",
              "      <td>-0.183319</td>\n",
              "      <td>-0.101657</td>\n",
              "      <td>-0.273874</td>\n",
              "      <td>-0.127818</td>\n",
              "      <td>-0.195983</td>\n",
              "      <td>-0.213523</td>\n",
              "      <td>-0.176473</td>\n",
              "      <td>-0.156932</td>\n",
              "      <td>-0.149172</td>\n",
              "      <td>-0.181510</td>\n",
              "      <td>-0.180074</td>\n",
              "      <td>-0.246151</td>\n",
              "      <td>-0.274260</td>\n",
              "      <td>-0.140960</td>\n",
              "      <td>-0.277449</td>\n",
              "      <td>-0.382549</td>\n",
              "      <td>-0.311937</td>\n",
              "      <td>-0.360093</td>\n",
              "      <td>-0.405968</td>\n",
              "      <td>-0.571433</td>\n",
              "      <td>-0.524106</td>\n",
              "      <td>-0.537886</td>\n",
              "      <td>-0.606778</td>\n",
              "      <td>-0.661446</td>\n",
              "      <td>-0.683375</td>\n",
              "      <td>-0.746683</td>\n",
              "      <td>-0.635662</td>\n",
              "      <td>-0.625231</td>\n",
              "      <td>-0.540094</td>\n",
              "      <td>-0.674995</td>\n",
              "      <td>...</td>\n",
              "      <td>1.772155</td>\n",
              "      <td>2.000769</td>\n",
              "      <td>1.925003</td>\n",
              "      <td>1.898426</td>\n",
              "      <td>1.720953</td>\n",
              "      <td>1.501711</td>\n",
              "      <td>1.422492</td>\n",
              "      <td>1.023225</td>\n",
              "      <td>0.776341</td>\n",
              "      <td>0.504426</td>\n",
              "      <td>0.056382</td>\n",
              "      <td>-0.233161</td>\n",
              "      <td>-0.406388</td>\n",
              "      <td>-0.327528</td>\n",
              "      <td>-0.460868</td>\n",
              "      <td>-0.402536</td>\n",
              "      <td>-0.345752</td>\n",
              "      <td>-0.354206</td>\n",
              "      <td>-0.439959</td>\n",
              "      <td>-0.425326</td>\n",
              "      <td>-0.439789</td>\n",
              "      <td>-0.451835</td>\n",
              "      <td>-0.395926</td>\n",
              "      <td>-0.448762</td>\n",
              "      <td>-0.391789</td>\n",
              "      <td>-0.376307</td>\n",
              "      <td>-0.461069</td>\n",
              "      <td>-0.253524</td>\n",
              "      <td>0.213006</td>\n",
              "      <td>0.491173</td>\n",
              "      <td>0.350816</td>\n",
              "      <td>0.499111</td>\n",
              "      <td>0.600345</td>\n",
              "      <td>0.842069</td>\n",
              "      <td>0.952074</td>\n",
              "      <td>0.990133</td>\n",
              "      <td>1.086798</td>\n",
              "      <td>1.403011</td>\n",
              "      <td>-0.383564</td>\n",
              "      <td>1.0</td>\n",
              "    </tr>\n",
              "    <tr>\n",
              "      <th>4</th>\n",
              "      <td>0.800232</td>\n",
              "      <td>-0.874252</td>\n",
              "      <td>-2.384761</td>\n",
              "      <td>-3.973292</td>\n",
              "      <td>-4.338224</td>\n",
              "      <td>-3.802422</td>\n",
              "      <td>-2.534510</td>\n",
              "      <td>-1.783423</td>\n",
              "      <td>-1.594450</td>\n",
              "      <td>-0.753199</td>\n",
              "      <td>-0.298107</td>\n",
              "      <td>-0.428928</td>\n",
              "      <td>-0.491351</td>\n",
              "      <td>-0.361304</td>\n",
              "      <td>-0.339296</td>\n",
              "      <td>-0.324952</td>\n",
              "      <td>-0.290113</td>\n",
              "      <td>-0.363051</td>\n",
              "      <td>-0.525684</td>\n",
              "      <td>-0.597423</td>\n",
              "      <td>-0.575523</td>\n",
              "      <td>-0.567503</td>\n",
              "      <td>-0.504555</td>\n",
              "      <td>-0.618406</td>\n",
              "      <td>-0.682814</td>\n",
              "      <td>-0.743849</td>\n",
              "      <td>-0.815588</td>\n",
              "      <td>-0.826902</td>\n",
              "      <td>-0.782374</td>\n",
              "      <td>-0.929462</td>\n",
              "      <td>-0.999672</td>\n",
              "      <td>-1.060969</td>\n",
              "      <td>-1.007877</td>\n",
              "      <td>-1.028735</td>\n",
              "      <td>-1.122629</td>\n",
              "      <td>-1.028650</td>\n",
              "      <td>-1.046515</td>\n",
              "      <td>-1.063372</td>\n",
              "      <td>-1.122423</td>\n",
              "      <td>-0.983242</td>\n",
              "      <td>...</td>\n",
              "      <td>1.155363</td>\n",
              "      <td>1.336254</td>\n",
              "      <td>1.627534</td>\n",
              "      <td>1.717594</td>\n",
              "      <td>1.696487</td>\n",
              "      <td>1.741686</td>\n",
              "      <td>1.674078</td>\n",
              "      <td>1.546928</td>\n",
              "      <td>1.331738</td>\n",
              "      <td>1.110168</td>\n",
              "      <td>0.922210</td>\n",
              "      <td>0.521777</td>\n",
              "      <td>0.154852</td>\n",
              "      <td>-0.123861</td>\n",
              "      <td>-0.202998</td>\n",
              "      <td>-0.247956</td>\n",
              "      <td>-0.219122</td>\n",
              "      <td>-0.214695</td>\n",
              "      <td>-0.319215</td>\n",
              "      <td>-0.198597</td>\n",
              "      <td>-0.151618</td>\n",
              "      <td>-0.129593</td>\n",
              "      <td>-0.074939</td>\n",
              "      <td>-0.196807</td>\n",
              "      <td>-0.174795</td>\n",
              "      <td>-0.208833</td>\n",
              "      <td>-0.210754</td>\n",
              "      <td>-0.100485</td>\n",
              "      <td>0.197446</td>\n",
              "      <td>0.966606</td>\n",
              "      <td>1.148884</td>\n",
              "      <td>0.958434</td>\n",
              "      <td>1.059025</td>\n",
              "      <td>1.371682</td>\n",
              "      <td>1.277392</td>\n",
              "      <td>0.960304</td>\n",
              "      <td>0.971020</td>\n",
              "      <td>1.614392</td>\n",
              "      <td>1.421456</td>\n",
              "      <td>1.0</td>\n",
              "    </tr>\n",
              "  </tbody>\n",
              "</table>\n",
              "<p>5 rows × 141 columns</p>\n",
              "</div>"
            ],
            "text/plain": [
              "        0         1         2         3    ...       137       138       139  140\n",
              "0 -0.112522 -2.827204 -3.773897 -4.349751  ...  0.123431  0.925286  0.193137  1.0\n",
              "1 -1.100878 -3.996840 -4.285843 -4.506579  ...  0.773820  1.119621 -1.436250  1.0\n",
              "2 -0.567088 -2.593450 -3.874230 -4.584095  ...  0.321097  0.904227 -0.421797  1.0\n",
              "3  0.490473 -1.914407 -3.616364 -4.318823  ...  1.086798  1.403011 -0.383564  1.0\n",
              "4  0.800232 -0.874252 -2.384761 -3.973292  ...  0.971020  1.614392  1.421456  1.0\n",
              "\n",
              "[5 rows x 141 columns]"
            ]
          },
          "metadata": {
            "tags": []
          },
          "execution_count": 1
        }
      ]
    },
    {
      "cell_type": "code",
      "metadata": {
        "id": "ZikQVgNk68dk"
      },
      "source": [
        "import os\r\n",
        "import tensorflow as tf\r\n",
        "from tensorflow.compat.v1.keras.backend import set_session\r\n",
        " \r\n",
        "os.environ[\"CUDA_VISIBLE_DEVICES\"] = \"0\" #有多个GPU时可以指定只使用第几号GPU\r\n",
        "config = tf.compat.v1.ConfigProto() \r\n",
        "config.allow_soft_placement=True #允许动态放置张量和操作符\r\n",
        "config.gpu_options.per_process_gpu_memory_fraction = 0.4 #最多使用40%GPU内存\r\n",
        "config.gpu_options.allow_growth=True   #初始化时不全部占满GPU显存, 按需分配 \r\n",
        "sess = tf.compat.v1.Session(config = config)\r\n",
        "set_session(sess)"
      ],
      "execution_count": 2,
      "outputs": []
    },
    {
      "cell_type": "code",
      "metadata": {
        "colab": {
          "base_uri": "https://localhost:8080/"
        },
        "id": "vaeq1__ftlay",
        "outputId": "71f83f71-16e0-4448-9216-69df08a5eba6"
      },
      "source": [
        "!nvidia-smi"
      ],
      "execution_count": 3,
      "outputs": [
        {
          "output_type": "stream",
          "text": [
            "Sun Feb 21 20:58:55 2021       \n",
            "+-----------------------------------------------------------------------------+\n",
            "| NVIDIA-SMI 460.39       Driver Version: 460.32.03    CUDA Version: 11.2     |\n",
            "|-------------------------------+----------------------+----------------------+\n",
            "| GPU  Name        Persistence-M| Bus-Id        Disp.A | Volatile Uncorr. ECC |\n",
            "| Fan  Temp  Perf  Pwr:Usage/Cap|         Memory-Usage | GPU-Util  Compute M. |\n",
            "|                               |                      |               MIG M. |\n",
            "|===============================+======================+======================|\n",
            "|   0  Tesla T4            Off  | 00000000:00:04.0 Off |                    0 |\n",
            "| N/A   77C    P0    36W /  70W |    222MiB / 15109MiB |      5%      Default |\n",
            "|                               |                      |                  N/A |\n",
            "+-------------------------------+----------------------+----------------------+\n",
            "                                                                               \n",
            "+-----------------------------------------------------------------------------+\n",
            "| Processes:                                                                  |\n",
            "|  GPU   GI   CI        PID   Type   Process name                  GPU Memory |\n",
            "|        ID   ID                                                   Usage      |\n",
            "|=============================================================================|\n",
            "+-----------------------------------------------------------------------------+\n"
          ],
          "name": "stdout"
        }
      ]
    },
    {
      "cell_type": "markdown",
      "metadata": {
        "id": "rO4oR3FzP1ne"
      },
      "source": [
        "# Setting Gpu"
      ]
    },
    {
      "cell_type": "code",
      "metadata": {
        "colab": {
          "base_uri": "https://localhost:8080/"
        },
        "id": "qy1SNzkqPy-A",
        "outputId": "22093a6f-2c2a-4dec-fd68-fadaa869bf61"
      },
      "source": [
        "import torch \r\n",
        "from google.colab import drive\r\n",
        "#drive.mount('/content/drive')\r\n",
        "#dataset_url = \"/content/drive/My Drive/Colab Notebooks/Lancaster/apply data mining/\"\r\n",
        "#program_url = \"/content/drive/My Drive/Colab Notebooks/Lancaster/apply data mining/\"\r\n",
        "\r\n",
        "device = torch.device('cuda' if torch.cuda.is_available() else 'cpu')\r\n",
        "device"
      ],
      "execution_count": 4,
      "outputs": [
        {
          "output_type": "execute_result",
          "data": {
            "text/plain": [
              "device(type='cuda')"
            ]
          },
          "metadata": {
            "tags": []
          },
          "execution_count": 4
        }
      ]
    },
    {
      "cell_type": "code",
      "metadata": {
        "colab": {
          "base_uri": "https://localhost:8080/",
          "height": 268
        },
        "id": "VSGHfGum4lU1",
        "outputId": "084a2658-9c6e-4826-df76-cd11b5fc418a"
      },
      "source": [
        "# The last element contains the labels\r\n",
        "labels = raw_data[:, -1]\r\n",
        "\r\n",
        "# The other data points are the electrocadriogram data\r\n",
        "data = raw_data[:, 0:-1]\r\n",
        "\r\n",
        "train_data, test_data, train_labels, test_labels = train_test_split(data, labels, test_size=0.2, random_state=21)\r\n",
        "\r\n",
        "# Normalize to [0, 1]\r\n",
        "min_val = tf.reduce_min(train_data)\r\n",
        "max_val = tf.reduce_max(train_data)\r\n",
        "\r\n",
        "train_data = (train_data - min_val) / (max_val - min_val)\r\n",
        "test_data = (test_data - min_val) / (max_val - min_val)\r\n",
        "\r\n",
        "train_data = tf.cast(train_data, tf.float32)\r\n",
        "test_data = tf.cast(test_data, tf.float32)\r\n",
        "\r\n",
        "# plot data\r\n",
        "plt.grid()\r\n",
        "plt.plot(np.arange(140), train_data[6])\r\n",
        "plt.show()"
      ],
      "execution_count": 5,
      "outputs": [
        {
          "output_type": "display_data",
          "data": {
            "image/png": "[encoded data removed]",
            "text/plain": [
              "<Figure size 432x288 with 1 Axes>"
            ]
          },
          "metadata": {
            "tags": [],
            "needs_background": "light"
          }
        }
      ]
    },
    {
      "cell_type": "code",
      "metadata": {
        "colab": {
          "base_uri": "https://localhost:8080/",
          "height": 265
        },
        "id": "DuqVLrZ15CVf",
        "outputId": "14e51f64-adc0-4450-96ef-381e49582e1d"
      },
      "source": [
        "plt.grid()\r\n",
        "plt.plot(np.arange(140), train_data[7])\r\n",
        "plt.show()"
      ],
      "execution_count": 6,
      "outputs": [
        {
          "output_type": "display_data",
          "data": {
            "image/png": "[encoded data removed]",
            "text/plain": [
              "<Figure size 432x288 with 1 Axes>"
            ]
          },
          "metadata": {
            "tags": [],
            "needs_background": "light"
          }
        }
      ]
    },
    {
      "cell_type": "code",
      "metadata": {
        "id": "qe4TidVg93e_"
      },
      "source": [
        "import keras"
      ],
      "execution_count": 7,
      "outputs": []
    },
    {
      "cell_type": "code",
      "metadata": {
        "id": "QcLtQBtI-cP5"
      },
      "source": [
        "x_train = train_data\r\n",
        "x_test = test_data\r\n",
        "y_train = train_labels\r\n",
        "y_test = test_labels"
      ],
      "execution_count": 8,
      "outputs": []
    },
    {
      "cell_type": "code",
      "metadata": {
        "id": "tIa8UndJAQOf"
      },
      "source": [
        "#validation dataset\r\n",
        "x_val = x_train[:400]\r\n",
        "partial_x_train = x_train[400:]\r\n",
        " \r\n",
        "y_val = y_train[:400]\r\n",
        "partial_y_train = y_train[400:]"
      ],
      "execution_count": 9,
      "outputs": []
    },
    {
      "cell_type": "code",
      "metadata": {
        "id": "H4BIV6bVBWbX"
      },
      "source": [
        "from keras import models\r\n",
        "from keras import layers\r\n",
        "from keras.layers import Activation, Dense, Dropout\r\n",
        "import matplotlib.pyplot as plt"
      ],
      "execution_count": 10,
      "outputs": []
    },
    {
      "cell_type": "code",
      "metadata": {
        "colab": {
          "base_uri": "https://localhost:8080/"
        },
        "id": "OXnD-NXJRmQS",
        "outputId": "b6852dec-dbd2-463a-80c7-a245e4005573"
      },
      "source": [
        "if_cuda = torch.cuda.is_available()\r\n",
        "if_cuda"
      ],
      "execution_count": 11,
      "outputs": [
        {
          "output_type": "execute_result",
          "data": {
            "text/plain": [
              "True"
            ]
          },
          "metadata": {
            "tags": []
          },
          "execution_count": 11
        }
      ]
    },
    {
      "cell_type": "code",
      "metadata": {
        "id": "YGswvJG4bzP4"
      },
      "source": [
        "from keras import backend as K\r\n",
        "import tensorflow as tf \r\n",
        "def recall_m(y_true, y_pred):\r\n",
        "    true_positives = K.sum(K.round(K.clip(y_true * y_pred, 0, 1)))\r\n",
        "    possible_positives = K.sum(K.round(K.clip(y_true, 0, 1)))\r\n",
        "    recall = true_positives / (possible_positives + K.epsilon())\r\n",
        "    return recall\r\n",
        "\r\n",
        "def precision_m(y_true, y_pred):\r\n",
        "    true_positives = K.sum(K.round(K.clip(y_true * y_pred, 0, 1)))\r\n",
        "    predicted_positives = K.sum(K.round(K.clip(y_pred, 0, 1)))\r\n",
        "    precision = true_positives / (predicted_positives + K.epsilon())\r\n",
        "    return precision\r\n",
        "\r\n",
        "def f1_m(y_true, y_pred):\r\n",
        "    precision = precision_m(y_true, y_pred)\r\n",
        "    recall = recall_m(y_true, y_pred)\r\n",
        "    return 2*((precision*recall)/(precision+recall+K.epsilon()))"
      ],
      "execution_count": 12,
      "outputs": []
    },
    {
      "cell_type": "markdown",
      "metadata": {
        "id": "_N-28kWyqQLo"
      },
      "source": [
        "# **1-D CNN**"
      ]
    },
    {
      "cell_type": "code",
      "metadata": {
        "id": "gx-ZXrKfq94X"
      },
      "source": [
        "x_train_cnn = np.array(x_train)\r\n",
        "x_test_cnn = np.array(x_test)\r\n",
        "x_val_cnn = np.array(x_val)\r\n",
        "partial_x_train_cnn = np.array(partial_x_train)"
      ],
      "execution_count": 13,
      "outputs": []
    },
    {
      "cell_type": "code",
      "metadata": {
        "colab": {
          "base_uri": "https://localhost:8080/"
        },
        "id": "fJdp0oizrcPg",
        "outputId": "714f7c5b-647a-40f6-e27c-f61a610e570a"
      },
      "source": [
        "partial_x_train_cnn.shape"
      ],
      "execution_count": 14,
      "outputs": [
        {
          "output_type": "execute_result",
          "data": {
            "text/plain": [
              "(3598, 140)"
            ]
          },
          "metadata": {
            "tags": []
          },
          "execution_count": 14
        }
      ]
    },
    {
      "cell_type": "code",
      "metadata": {
        "id": "RgIlVGWxqTpk"
      },
      "source": [
        "#reshape data to fit model\r\n",
        "x_train_cnn = x_train_cnn.reshape(3998,140,1)\r\n",
        "x_test_cnn = x_test_cnn.reshape(1000,140,1)\r\n",
        "x_val_cnn = x_val_cnn.reshape(400,140,1)\r\n",
        "partial_x_train_cnn = partial_x_train_cnn.reshape(3598,140,1)\r\n"
      ],
      "execution_count": 15,
      "outputs": []
    },
    {
      "cell_type": "code",
      "metadata": {
        "id": "egnT8xYRwZlg"
      },
      "source": [
        "from keras.models import Sequential\r\n",
        "from keras.layers import Dense, Conv2D, Flatten,Conv1D,GlobalMaxPooling1D\r\n",
        "\r\n",
        "#create model\r\n",
        "model = Sequential()\r\n",
        "#add model layers\r\n",
        "model.add(Conv1D(64, kernel_size=20, activation='relu', input_shape=(140,1)))\r\n",
        "model.add(GlobalMaxPooling1D())\r\n",
        "#model.add(Conv1D(32, kernel_size=4, activation='relu'))\r\n",
        "#model.add(GlobalMaxPooling1D())\r\n",
        "#model.add(Conv1D(8, kernel_size=1, activation='relu'))\r\n",
        "model.add(Flatten())\r\n",
        "model.add(Dense(64, activation='relu'))\r\n",
        "model.add(Dense(16, activation='relu'))\r\n",
        "model.add(Dense(1, activation='sigmoid'))"
      ],
      "execution_count": 16,
      "outputs": []
    },
    {
      "cell_type": "code",
      "metadata": {
        "colab": {
          "base_uri": "https://localhost:8080/"
        },
        "id": "U9SY04M9PKGS",
        "outputId": "5a525bf0-70cb-49d9-b68d-3d20265d8096"
      },
      "source": [
        "model.summary()"
      ],
      "execution_count": 17,
      "outputs": [
        {
          "output_type": "stream",
          "text": [
            "Model: \"sequential\"\n",
            "_________________________________________________________________\n",
            "Layer (type)                 Output Shape              Param #   \n",
            "=================================================================\n",
            "conv1d (Conv1D)              (None, 121, 64)           1344      \n",
            "_________________________________________________________________\n",
            "global_max_pooling1d (Global (None, 64)                0         \n",
            "_________________________________________________________________\n",
            "flatten (Flatten)            (None, 64)                0         \n",
            "_________________________________________________________________\n",
            "dense (Dense)                (None, 64)                4160      \n",
            "_________________________________________________________________\n",
            "dense_1 (Dense)              (None, 16)                1040      \n",
            "_________________________________________________________________\n",
            "dense_2 (Dense)              (None, 1)                 17        \n",
            "=================================================================\n",
            "Total params: 6,561\n",
            "Trainable params: 6,561\n",
            "Non-trainable params: 0\n",
            "_________________________________________________________________\n"
          ],
          "name": "stdout"
        }
      ]
    },
    {
      "cell_type": "code",
      "metadata": {
        "id": "AxHkwWS7rNS8"
      },
      "source": [
        "#compile model using accuracy to measure model performance\r\n",
        "model.compile(optimizer='rmsprop', loss='binary_crossentropy', metrics=['acc',f1_m,tf.keras.metrics.AUC()])"
      ],
      "execution_count": 18,
      "outputs": []
    },
    {
      "cell_type": "code",
      "metadata": {
        "colab": {
          "base_uri": "https://localhost:8080/"
        },
        "id": "dUtlulbcw0qC",
        "outputId": "57fa2b8f-0bfe-4c37-d25e-0db70cf39564"
      },
      "source": [
        "CNN = model.fit(partial_x_train_cnn,\r\n",
        "              partial_y_train,\r\n",
        "              epochs=40, #模型所有資料看一遍叫做1個epochs\r\n",
        "              batch_size=32, #一次512筆資料，才更新權重(原則上越多越好)。32就不錯了\r\n",
        "              validation_data=(x_val_cnn,y_val)) #驗證集\r\n",
        "    \r\n",
        "    \r\n",
        "    \r\n",
        "#x_train, y_train, validation_data=(x_test, y_test), epochs=10)"
      ],
      "execution_count": 19,
      "outputs": [
        {
          "output_type": "stream",
          "text": [
            "Epoch 1/40\n",
            "113/113 [==============================] - 4s 11ms/step - loss: 0.6665 - acc: 0.5800 - f1_m: 0.7068 - auc: 0.6491 - val_loss: 0.5580 - val_acc: 0.7825 - val_f1_m: 0.8440 - val_auc: 0.9598\n",
            "Epoch 2/40\n",
            "113/113 [==============================] - 1s 5ms/step - loss: 0.4638 - acc: 0.8347 - f1_m: 0.8828 - auc: 0.9764 - val_loss: 0.2209 - val_acc: 0.9575 - val_f1_m: 0.9639 - val_auc: 0.9934\n",
            "Epoch 3/40\n",
            "113/113 [==============================] - 1s 5ms/step - loss: 0.1717 - acc: 0.9603 - f1_m: 0.9664 - auc: 0.9857 - val_loss: 0.4057 - val_acc: 0.8100 - val_f1_m: 0.8069 - val_auc: 0.9871\n",
            "Epoch 4/40\n",
            "113/113 [==============================] - 1s 6ms/step - loss: 0.1174 - acc: 0.9562 - f1_m: 0.9593 - auc: 0.9903 - val_loss: 0.1679 - val_acc: 0.9650 - val_f1_m: 0.9706 - val_auc: 0.9934\n",
            "Epoch 5/40\n",
            "113/113 [==============================] - 1s 6ms/step - loss: 0.0835 - acc: 0.9703 - f1_m: 0.9749 - auc: 0.9954 - val_loss: 0.0994 - val_acc: 0.9600 - val_f1_m: 0.9660 - val_auc: 0.9971\n",
            "Epoch 6/40\n",
            "113/113 [==============================] - 1s 6ms/step - loss: 0.0820 - acc: 0.9675 - f1_m: 0.9720 - auc: 0.9957 - val_loss: 0.0720 - val_acc: 0.9725 - val_f1_m: 0.9777 - val_auc: 0.9963\n",
            "Epoch 7/40\n",
            "113/113 [==============================] - 1s 6ms/step - loss: 0.0898 - acc: 0.9710 - f1_m: 0.9748 - auc: 0.9932 - val_loss: 0.0841 - val_acc: 0.9825 - val_f1_m: 0.9854 - val_auc: 0.9965\n",
            "Epoch 8/40\n",
            "113/113 [==============================] - 1s 6ms/step - loss: 0.0625 - acc: 0.9781 - f1_m: 0.9817 - auc: 0.9968 - val_loss: 0.0570 - val_acc: 0.9850 - val_f1_m: 0.9872 - val_auc: 0.9968\n",
            "Epoch 9/40\n",
            "113/113 [==============================] - 1s 5ms/step - loss: 0.0657 - acc: 0.9809 - f1_m: 0.9831 - auc: 0.9956 - val_loss: 0.0690 - val_acc: 0.9675 - val_f1_m: 0.9732 - val_auc: 0.9988\n",
            "Epoch 10/40\n",
            "113/113 [==============================] - 1s 6ms/step - loss: 0.0611 - acc: 0.9782 - f1_m: 0.9806 - auc: 0.9967 - val_loss: 0.0636 - val_acc: 0.9850 - val_f1_m: 0.9874 - val_auc: 0.9973\n",
            "Epoch 11/40\n",
            "113/113 [==============================] - 1s 6ms/step - loss: 0.0649 - acc: 0.9804 - f1_m: 0.9823 - auc: 0.9965 - val_loss: 0.0553 - val_acc: 0.9825 - val_f1_m: 0.9854 - val_auc: 0.9986\n",
            "Epoch 12/40\n",
            "113/113 [==============================] - 1s 6ms/step - loss: 0.0598 - acc: 0.9819 - f1_m: 0.9846 - auc: 0.9954 - val_loss: 0.0623 - val_acc: 0.9775 - val_f1_m: 0.9810 - val_auc: 0.9987\n",
            "Epoch 13/40\n",
            "113/113 [==============================] - 1s 6ms/step - loss: 0.0640 - acc: 0.9784 - f1_m: 0.9802 - auc: 0.9961 - val_loss: 0.0478 - val_acc: 0.9850 - val_f1_m: 0.9868 - val_auc: 0.9973\n",
            "Epoch 14/40\n",
            "113/113 [==============================] - 1s 5ms/step - loss: 0.0703 - acc: 0.9766 - f1_m: 0.9798 - auc: 0.9954 - val_loss: 0.0428 - val_acc: 0.9875 - val_f1_m: 0.9892 - val_auc: 0.9990\n",
            "Epoch 15/40\n",
            "113/113 [==============================] - 1s 5ms/step - loss: 0.0481 - acc: 0.9876 - f1_m: 0.9895 - auc: 0.9972 - val_loss: 0.0418 - val_acc: 0.9900 - val_f1_m: 0.9912 - val_auc: 0.9974\n",
            "Epoch 16/40\n",
            "113/113 [==============================] - 1s 5ms/step - loss: 0.0494 - acc: 0.9851 - f1_m: 0.9864 - auc: 0.9972 - val_loss: 0.0401 - val_acc: 0.9875 - val_f1_m: 0.9896 - val_auc: 0.9974\n",
            "Epoch 17/40\n",
            "113/113 [==============================] - 1s 5ms/step - loss: 0.0453 - acc: 0.9856 - f1_m: 0.9878 - auc: 0.9973 - val_loss: 0.0397 - val_acc: 0.9850 - val_f1_m: 0.9868 - val_auc: 0.9992\n",
            "Epoch 18/40\n",
            "113/113 [==============================] - 1s 6ms/step - loss: 0.0528 - acc: 0.9838 - f1_m: 0.9856 - auc: 0.9972 - val_loss: 0.0471 - val_acc: 0.9875 - val_f1_m: 0.9892 - val_auc: 0.9973\n",
            "Epoch 19/40\n",
            "113/113 [==============================] - 1s 5ms/step - loss: 0.0550 - acc: 0.9833 - f1_m: 0.9855 - auc: 0.9955 - val_loss: 0.0889 - val_acc: 0.9650 - val_f1_m: 0.9704 - val_auc: 0.9990\n",
            "Epoch 20/40\n",
            "113/113 [==============================] - 1s 6ms/step - loss: 0.0514 - acc: 0.9866 - f1_m: 0.9879 - auc: 0.9970 - val_loss: 0.0751 - val_acc: 0.9725 - val_f1_m: 0.9773 - val_auc: 0.9991\n",
            "Epoch 21/40\n",
            "113/113 [==============================] - 1s 5ms/step - loss: 0.0451 - acc: 0.9880 - f1_m: 0.9898 - auc: 0.9974 - val_loss: 0.0651 - val_acc: 0.9775 - val_f1_m: 0.9810 - val_auc: 0.9976\n",
            "Epoch 22/40\n",
            "113/113 [==============================] - 1s 5ms/step - loss: 0.0491 - acc: 0.9859 - f1_m: 0.9878 - auc: 0.9969 - val_loss: 0.0441 - val_acc: 0.9850 - val_f1_m: 0.9881 - val_auc: 0.9975\n",
            "Epoch 23/40\n",
            "113/113 [==============================] - 1s 6ms/step - loss: 0.0508 - acc: 0.9863 - f1_m: 0.9882 - auc: 0.9966 - val_loss: 0.0446 - val_acc: 0.9825 - val_f1_m: 0.9848 - val_auc: 0.9992\n",
            "Epoch 24/40\n",
            "113/113 [==============================] - 1s 6ms/step - loss: 0.0521 - acc: 0.9868 - f1_m: 0.9888 - auc: 0.9963 - val_loss: 0.0292 - val_acc: 0.9950 - val_f1_m: 0.9958 - val_auc: 0.9992\n",
            "Epoch 25/40\n",
            "113/113 [==============================] - 1s 6ms/step - loss: 0.0471 - acc: 0.9870 - f1_m: 0.9885 - auc: 0.9966 - val_loss: 0.0447 - val_acc: 0.9825 - val_f1_m: 0.9863 - val_auc: 0.9975\n",
            "Epoch 26/40\n",
            "113/113 [==============================] - 1s 5ms/step - loss: 0.0486 - acc: 0.9862 - f1_m: 0.9876 - auc: 0.9973 - val_loss: 0.0560 - val_acc: 0.9750 - val_f1_m: 0.9788 - val_auc: 0.9992\n",
            "Epoch 27/40\n",
            "113/113 [==============================] - 1s 6ms/step - loss: 0.0537 - acc: 0.9834 - f1_m: 0.9858 - auc: 0.9959 - val_loss: 0.1881 - val_acc: 0.9400 - val_f1_m: 0.9508 - val_auc: 0.9930\n",
            "Epoch 28/40\n",
            "113/113 [==============================] - 1s 6ms/step - loss: 0.0561 - acc: 0.9824 - f1_m: 0.9848 - auc: 0.9972 - val_loss: 0.0717 - val_acc: 0.9750 - val_f1_m: 0.9788 - val_auc: 0.9992\n",
            "Epoch 29/40\n",
            "113/113 [==============================] - 1s 5ms/step - loss: 0.0381 - acc: 0.9871 - f1_m: 0.9885 - auc: 0.9984 - val_loss: 0.0306 - val_acc: 0.9950 - val_f1_m: 0.9958 - val_auc: 0.9992\n",
            "Epoch 30/40\n",
            "113/113 [==============================] - 1s 5ms/step - loss: 0.0441 - acc: 0.9869 - f1_m: 0.9889 - auc: 0.9968 - val_loss: 0.0443 - val_acc: 0.9825 - val_f1_m: 0.9854 - val_auc: 0.9992\n",
            "Epoch 31/40\n",
            "113/113 [==============================] - 1s 6ms/step - loss: 0.0408 - acc: 0.9901 - f1_m: 0.9916 - auc: 0.9978 - val_loss: 0.0521 - val_acc: 0.9800 - val_f1_m: 0.9829 - val_auc: 0.9991\n",
            "Epoch 32/40\n",
            "113/113 [==============================] - 1s 5ms/step - loss: 0.0388 - acc: 0.9880 - f1_m: 0.9896 - auc: 0.9983 - val_loss: 0.0290 - val_acc: 0.9950 - val_f1_m: 0.9958 - val_auc: 0.9975\n",
            "Epoch 33/40\n",
            "113/113 [==============================] - 1s 5ms/step - loss: 0.0382 - acc: 0.9901 - f1_m: 0.9918 - auc: 0.9973 - val_loss: 0.0434 - val_acc: 0.9850 - val_f1_m: 0.9883 - val_auc: 0.9975\n",
            "Epoch 34/40\n",
            "113/113 [==============================] - 1s 5ms/step - loss: 0.0506 - acc: 0.9879 - f1_m: 0.9892 - auc: 0.9969 - val_loss: 0.0428 - val_acc: 0.9850 - val_f1_m: 0.9874 - val_auc: 0.9991\n",
            "Epoch 35/40\n",
            "113/113 [==============================] - 1s 5ms/step - loss: 0.0464 - acc: 0.9875 - f1_m: 0.9891 - auc: 0.9975 - val_loss: 0.0523 - val_acc: 0.9825 - val_f1_m: 0.9848 - val_auc: 0.9975\n",
            "Epoch 36/40\n",
            "113/113 [==============================] - 1s 5ms/step - loss: 0.0394 - acc: 0.9867 - f1_m: 0.9886 - auc: 0.9981 - val_loss: 0.0284 - val_acc: 0.9925 - val_f1_m: 0.9940 - val_auc: 0.9993\n",
            "Epoch 37/40\n",
            "113/113 [==============================] - 1s 6ms/step - loss: 0.0527 - acc: 0.9831 - f1_m: 0.9857 - auc: 0.9971 - val_loss: 0.0498 - val_acc: 0.9800 - val_f1_m: 0.9829 - val_auc: 0.9991\n",
            "Epoch 38/40\n",
            "113/113 [==============================] - 1s 6ms/step - loss: 0.0374 - acc: 0.9897 - f1_m: 0.9912 - auc: 0.9975 - val_loss: 0.1307 - val_acc: 0.9625 - val_f1_m: 0.9685 - val_auc: 0.9931\n",
            "Epoch 39/40\n",
            "113/113 [==============================] - 1s 6ms/step - loss: 0.0412 - acc: 0.9886 - f1_m: 0.9900 - auc: 0.9982 - val_loss: 0.0323 - val_acc: 0.9925 - val_f1_m: 0.9938 - val_auc: 0.9974\n",
            "Epoch 40/40\n",
            "113/113 [==============================] - 1s 7ms/step - loss: 0.0429 - acc: 0.9890 - f1_m: 0.9902 - auc: 0.9974 - val_loss: 0.0300 - val_acc: 0.9900 - val_f1_m: 0.9918 - val_auc: 0.9976\n"
          ],
          "name": "stdout"
        }
      ]
    },
    {
      "cell_type": "code",
      "metadata": {
        "colab": {
          "base_uri": "https://localhost:8080/"
        },
        "id": "mwbjXcZkw0yF",
        "outputId": "71e6ec31-b683-4d0f-b4a5-e703cbfe9be4"
      },
      "source": [
        "\r\n",
        "loss_and_metrics_cnn = model.evaluate(x_test_cnn, y_test, batch_size=128)\r\n",
        "classes_cnn = model.predict(x_test_cnn, batch_size=128)"
      ],
      "execution_count": 20,
      "outputs": [
        {
          "output_type": "stream",
          "text": [
            "8/8 [==============================] - 0s 24ms/step - loss: 0.0419 - acc: 0.9870 - f1_m: 0.9884 - auc: 0.9963\n"
          ],
          "name": "stdout"
        }
      ]
    },
    {
      "cell_type": "code",
      "metadata": {
        "colab": {
          "base_uri": "https://localhost:8080/"
        },
        "id": "1qf3bhxur4pO",
        "outputId": "4e518a2a-b77a-4e06-84ee-47dcc6029abf"
      },
      "source": [
        "cnn_folds_acc = []\r\n",
        "cnn_folds_f1 = []\r\n",
        "cnn_folds_auc = []\r\n",
        "for i in range (10):\r\n",
        "  if i ==9:\r\n",
        "    x_test_cnn_folds = x_test_cnn[i*100:]\r\n",
        "    y_test_folds = y_test[i*100:]\r\n",
        "  else:\r\n",
        "    x_test_cnn_folds = x_test_cnn[100*i:100*(i+1)]\r\n",
        "    y_test_folds = y_test[100*i:100*(i+1)]\r\n",
        "  print(\"testing fold\", i+1, \"result\")\r\n",
        "  test_fold_result = model.evaluate(x_test_cnn_folds, y_test_folds, batch_size=128)\r\n",
        "  cnn_folds_acc.append(test_fold_result[1])\r\n",
        "  cnn_folds_f1.append(test_fold_result[2])\r\n",
        "  cnn_folds_auc.append(test_fold_result[3])\r\n",
        "print(sum(cnn_folds_acc)/len(cnn_folds_acc))\r\n",
        "print(sum(cnn_folds_f1)/len(cnn_folds_f1))\r\n",
        "print(sum(cnn_folds_auc)/len(cnn_folds_auc))"
      ],
      "execution_count": 21,
      "outputs": [
        {
          "output_type": "stream",
          "text": [
            "testing fold 1 result\n",
            "1/1 [==============================] - 0s 111ms/step - loss: 0.0762 - acc: 0.9800 - f1_m: 0.9833 - auc: 0.9841\n",
            "testing fold 2 result\n",
            "1/1 [==============================] - 0s 16ms/step - loss: 0.0710 - acc: 0.9600 - f1_m: 0.9649 - auc: 0.9988\n",
            "testing fold 3 result\n",
            "1/1 [==============================] - 0s 21ms/step - loss: 0.0059 - acc: 1.0000 - f1_m: 1.0000 - auc: 1.0000\n",
            "testing fold 4 result\n",
            "1/1 [==============================] - 0s 15ms/step - loss: 0.0141 - acc: 1.0000 - f1_m: 1.0000 - auc: 1.0000\n",
            "testing fold 5 result\n",
            "1/1 [==============================] - 0s 15ms/step - loss: 0.0733 - acc: 0.9800 - f1_m: 0.9808 - auc: 0.9962\n",
            "testing fold 6 result\n",
            "1/1 [==============================] - 0s 17ms/step - loss: 0.0257 - acc: 0.9800 - f1_m: 0.9825 - auc: 0.9996\n",
            "testing fold 7 result\n",
            "1/1 [==============================] - 0s 17ms/step - loss: 0.0696 - acc: 0.9900 - f1_m: 0.9916 - auc: 0.9837\n",
            "testing fold 8 result\n",
            "1/1 [==============================] - 0s 18ms/step - loss: 0.0452 - acc: 0.9900 - f1_m: 0.9910 - auc: 0.9992\n",
            "testing fold 9 result\n",
            "1/1 [==============================] - 0s 16ms/step - loss: 0.0279 - acc: 0.9900 - f1_m: 0.9877 - auc: 1.0000\n",
            "testing fold 10 result\n",
            "1/1 [==============================] - 0s 16ms/step - loss: 0.0099 - acc: 1.0000 - f1_m: 1.0000 - auc: 1.0000\n",
            "0.9870000064373017\n",
            "0.9881712555885315\n",
            "0.9961498022079468\n"
          ],
          "name": "stdout"
        }
      ]
    },
    {
      "cell_type": "code",
      "metadata": {
        "colab": {
          "base_uri": "https://localhost:8080/"
        },
        "id": "_Ic_pcSN2VJL",
        "outputId": "eb75a673-c82b-4d63-b550-fed4617c63c1"
      },
      "source": [
        "history_dict_CNN = CNN.history\r\n",
        "history_dict_CNN.keys()"
      ],
      "execution_count": 22,
      "outputs": [
        {
          "output_type": "execute_result",
          "data": {
            "text/plain": [
              "dict_keys(['loss', 'acc', 'f1_m', 'auc', 'val_loss', 'val_acc', 'val_f1_m', 'val_auc'])"
            ]
          },
          "metadata": {
            "tags": []
          },
          "execution_count": 22
        }
      ]
    },
    {
      "cell_type": "code",
      "metadata": {
        "colab": {
          "base_uri": "https://localhost:8080/",
          "height": 295
        },
        "id": "-nMZo7eYPgcJ",
        "outputId": "4b7df334-87a6-446e-d8d2-75855475893a"
      },
      "source": [
        "import matplotlib.pyplot as plt\r\n",
        " \r\n",
        "acc = CNN.history['acc']\r\n",
        "val_acc = CNN.history['val_acc']\r\n",
        "loss = CNN.history['loss']\r\n",
        "val_loss = CNN.history['val_loss']\r\n",
        " \r\n",
        "epochs = range(1, len(acc) + 1)\r\n",
        " \r\n",
        "# \"bo\" is for \"blue dot\"\r\n",
        "plt.plot(epochs, loss, 'r', label='Training loss')\r\n",
        "# b is for \"solid blue line\"\r\n",
        "plt.plot(epochs, val_loss, 'b', label='Validation loss')\r\n",
        "plt.title('CNN Training and validation loss')\r\n",
        "plt.xlabel('Epochs')\r\n",
        "plt.ylabel('Loss')\r\n",
        "plt.legend()\r\n",
        " \r\n",
        "plt.show()"
      ],
      "execution_count": 23,
      "outputs": [
        {
          "output_type": "display_data",
          "data": {
            "image/png": "[encoded data removed]",
            "text/plain": [
              "<Figure size 432x288 with 1 Axes>"
            ]
          },
          "metadata": {
            "tags": [],
            "needs_background": "light"
          }
        }
      ]
    },
    {
      "cell_type": "code",
      "metadata": {
        "colab": {
          "base_uri": "https://localhost:8080/",
          "height": 295
        },
        "id": "jndss5fQPkSg",
        "outputId": "80ced547-61db-4437-c4d4-0c51056102fe"
      },
      "source": [
        "plt.clf()   # clear figure\r\n",
        "acc_values = history_dict_CNN['acc']\r\n",
        "val_acc_values = history_dict_CNN['val_acc']\r\n",
        "f1_values = history_dict_CNN['f1_m']\r\n",
        "auc_values = history_dict_CNN['auc']\r\n",
        " \r\n",
        "plt.plot(epochs, acc_values, 'r', label='Training acc')\r\n",
        "plt.plot(epochs, val_acc_values, 'b', label='Validation acc')\r\n",
        "plt.plot(epochs, f1_values, 'y', label='Training F1')\r\n",
        "plt.plot(epochs, auc_values, 'g', label='Training AUC')\r\n",
        "\r\n",
        "plt.title('CNN Training and Validation Measures Performance')\r\n",
        "plt.xlabel('Epochs')\r\n",
        "plt.ylabel('Index Value')\r\n",
        "plt.legend()\r\n",
        "\r\n",
        "plt.show()"
      ],
      "execution_count": 24,
      "outputs": [
        {
          "output_type": "display_data",
          "data": {
            "image/png": "[encoded data removed]",
            "text/plain": [
              "<Figure size 432x288 with 1 Axes>"
            ]
          },
          "metadata": {
            "tags": [],
            "needs_background": "light"
          }
        }
      ]
    },
    {
      "cell_type": "markdown",
      "metadata": {
        "id": "VQMKo8uAGDPB"
      },
      "source": [
        "# **LSTM**"
      ]
    },
    {
      "cell_type": "code",
      "metadata": {
        "id": "uje3qR0EGHne"
      },
      "source": [
        "x_train_lstm = np.array(x_train)\r\n",
        "x_test_lstm = np.array(x_test)\r\n",
        "x_val_lstm = np.array(x_val)\r\n",
        "partial_x_train_lstm = np.array(partial_x_train)"
      ],
      "execution_count": 25,
      "outputs": []
    },
    {
      "cell_type": "code",
      "metadata": {
        "id": "_NoYovKhKph_"
      },
      "source": [
        "#reshape data to fit model\r\n",
        "x_train_lstm = x_train_lstm.reshape(3998,10,14)\r\n",
        "x_test_lstm = x_test_lstm.reshape(1000,10,14)\r\n",
        "x_val_lstm = x_val_lstm.reshape(400,10,14)\r\n",
        "partial_x_train_lstm = partial_x_train_lstm.reshape(3598,10,14)"
      ],
      "execution_count": 26,
      "outputs": []
    },
    {
      "cell_type": "code",
      "metadata": {
        "id": "OSJStBwsGTgw"
      },
      "source": [
        "from keras.layers import LSTM\r\n",
        "model = Sequential()\r\n",
        "model.add(LSTM(100, input_shape=(10,14)))\r\n",
        "#model.add(Dropout(0.5)))\r\n",
        "model.add(Dense(64, activation='relu'))\r\n",
        "model.add(Dense(16, activation='relu'))\r\n",
        "model.add(Dense(1, activation='sigmoid'))"
      ],
      "execution_count": 27,
      "outputs": []
    },
    {
      "cell_type": "code",
      "metadata": {
        "id": "pVxgakVmLRhz"
      },
      "source": [
        "model.compile(optimizer='rmsprop', loss='binary_crossentropy', metrics=['acc',f1_m,tf.keras.metrics.AUC()])"
      ],
      "execution_count": 28,
      "outputs": []
    },
    {
      "cell_type": "code",
      "metadata": {
        "colab": {
          "base_uri": "https://localhost:8080/"
        },
        "id": "lEZeDeF0L9n1",
        "outputId": "6faa4cfd-2fb2-4152-d04b-529747f34302"
      },
      "source": [
        "lstm = model.fit(partial_x_train_lstm,\r\n",
        "              partial_y_train,\r\n",
        "              epochs=40, #模型所有資料看一遍叫做1個epochs\r\n",
        "              batch_size=32, #一次512筆資料，才更新權重(原則上越多越好)。32就不錯了\r\n",
        "              validation_data=(x_val_lstm,y_val)) #驗證集"
      ],
      "execution_count": 29,
      "outputs": [
        {
          "output_type": "stream",
          "text": [
            "Epoch 1/40\n",
            "113/113 [==============================] - 3s 11ms/step - loss: 0.6578 - acc: 0.5834 - f1_m: 0.6384 - auc_1: 0.6084 - val_loss: 0.5139 - val_acc: 0.7925 - val_f1_m: 0.7961 - val_auc_1: 0.9336\n",
            "Epoch 2/40\n",
            "113/113 [==============================] - 1s 7ms/step - loss: 0.3021 - acc: 0.9098 - f1_m: 0.9275 - auc_1: 0.9514 - val_loss: 0.0916 - val_acc: 0.9650 - val_f1_m: 0.9700 - val_auc_1: 0.9939\n",
            "Epoch 3/40\n",
            "113/113 [==============================] - 1s 6ms/step - loss: 0.0996 - acc: 0.9733 - f1_m: 0.9768 - auc_1: 0.9875 - val_loss: 0.0732 - val_acc: 0.9775 - val_f1_m: 0.9811 - val_auc_1: 0.9966\n",
            "Epoch 4/40\n",
            "113/113 [==============================] - 1s 6ms/step - loss: 0.0855 - acc: 0.9757 - f1_m: 0.9791 - auc_1: 0.9917 - val_loss: 0.0625 - val_acc: 0.9825 - val_f1_m: 0.9846 - val_auc_1: 0.9969\n",
            "Epoch 5/40\n",
            "113/113 [==============================] - 1s 6ms/step - loss: 0.0699 - acc: 0.9831 - f1_m: 0.9853 - auc_1: 0.9904 - val_loss: 0.0842 - val_acc: 0.9725 - val_f1_m: 0.9768 - val_auc_1: 0.9985\n",
            "Epoch 6/40\n",
            "113/113 [==============================] - 1s 6ms/step - loss: 0.0599 - acc: 0.9864 - f1_m: 0.9882 - auc_1: 0.9924 - val_loss: 0.0725 - val_acc: 0.9750 - val_f1_m: 0.9791 - val_auc_1: 0.9982\n",
            "Epoch 7/40\n",
            "113/113 [==============================] - 1s 6ms/step - loss: 0.0713 - acc: 0.9829 - f1_m: 0.9850 - auc_1: 0.9909 - val_loss: 0.0568 - val_acc: 0.9800 - val_f1_m: 0.9822 - val_auc_1: 0.9989\n",
            "Epoch 8/40\n",
            "113/113 [==============================] - 1s 6ms/step - loss: 0.0598 - acc: 0.9863 - f1_m: 0.9874 - auc_1: 0.9938 - val_loss: 0.0920 - val_acc: 0.9725 - val_f1_m: 0.9768 - val_auc_1: 0.9990\n",
            "Epoch 9/40\n",
            "113/113 [==============================] - 1s 6ms/step - loss: 0.0508 - acc: 0.9878 - f1_m: 0.9892 - auc_1: 0.9945 - val_loss: 0.0561 - val_acc: 0.9825 - val_f1_m: 0.9854 - val_auc_1: 0.9991\n",
            "Epoch 10/40\n",
            "113/113 [==============================] - 1s 6ms/step - loss: 0.0517 - acc: 0.9880 - f1_m: 0.9894 - auc_1: 0.9953 - val_loss: 0.0508 - val_acc: 0.9825 - val_f1_m: 0.9846 - val_auc_1: 0.9990\n",
            "Epoch 11/40\n",
            "113/113 [==============================] - 1s 7ms/step - loss: 0.0551 - acc: 0.9864 - f1_m: 0.9880 - auc_1: 0.9960 - val_loss: 0.1094 - val_acc: 0.9750 - val_f1_m: 0.9796 - val_auc_1: 0.9957\n",
            "Epoch 12/40\n",
            "113/113 [==============================] - 1s 6ms/step - loss: 0.0526 - acc: 0.9882 - f1_m: 0.9901 - auc_1: 0.9945 - val_loss: 0.0566 - val_acc: 0.9850 - val_f1_m: 0.9871 - val_auc_1: 0.9961\n",
            "Epoch 13/40\n",
            "113/113 [==============================] - 1s 6ms/step - loss: 0.0510 - acc: 0.9862 - f1_m: 0.9884 - auc_1: 0.9963 - val_loss: 0.0526 - val_acc: 0.9850 - val_f1_m: 0.9879 - val_auc_1: 0.9987\n",
            "Epoch 14/40\n",
            "113/113 [==============================] - 1s 6ms/step - loss: 0.0392 - acc: 0.9899 - f1_m: 0.9913 - auc_1: 0.9980 - val_loss: 0.0440 - val_acc: 0.9825 - val_f1_m: 0.9854 - val_auc_1: 0.9991\n",
            "Epoch 15/40\n",
            "113/113 [==============================] - 1s 6ms/step - loss: 0.0561 - acc: 0.9851 - f1_m: 0.9872 - auc_1: 0.9954 - val_loss: 0.0512 - val_acc: 0.9850 - val_f1_m: 0.9879 - val_auc_1: 0.9986\n",
            "Epoch 16/40\n",
            "113/113 [==============================] - 1s 6ms/step - loss: 0.0407 - acc: 0.9881 - f1_m: 0.9895 - auc_1: 0.9975 - val_loss: 0.0446 - val_acc: 0.9825 - val_f1_m: 0.9859 - val_auc_1: 0.9989\n",
            "Epoch 17/40\n",
            "113/113 [==============================] - 1s 7ms/step - loss: 0.0322 - acc: 0.9932 - f1_m: 0.9942 - auc_1: 0.9980 - val_loss: 0.0465 - val_acc: 0.9850 - val_f1_m: 0.9864 - val_auc_1: 0.9992\n",
            "Epoch 18/40\n",
            "113/113 [==============================] - 1s 8ms/step - loss: 0.0478 - acc: 0.9882 - f1_m: 0.9898 - auc_1: 0.9952 - val_loss: 0.0528 - val_acc: 0.9825 - val_f1_m: 0.9846 - val_auc_1: 0.9960\n",
            "Epoch 19/40\n",
            "113/113 [==============================] - 1s 7ms/step - loss: 0.0373 - acc: 0.9889 - f1_m: 0.9905 - auc_1: 0.9976 - val_loss: 0.0476 - val_acc: 0.9775 - val_f1_m: 0.9807 - val_auc_1: 0.9988\n",
            "Epoch 20/40\n",
            "113/113 [==============================] - 1s 8ms/step - loss: 0.0374 - acc: 0.9896 - f1_m: 0.9909 - auc_1: 0.9964 - val_loss: 0.0522 - val_acc: 0.9825 - val_f1_m: 0.9846 - val_auc_1: 0.9989\n",
            "Epoch 21/40\n",
            "113/113 [==============================] - 1s 8ms/step - loss: 0.0382 - acc: 0.9890 - f1_m: 0.9904 - auc_1: 0.9978 - val_loss: 0.0543 - val_acc: 0.9825 - val_f1_m: 0.9850 - val_auc_1: 0.9958\n",
            "Epoch 22/40\n",
            "113/113 [==============================] - 1s 8ms/step - loss: 0.0334 - acc: 0.9906 - f1_m: 0.9915 - auc_1: 0.9985 - val_loss: 0.0432 - val_acc: 0.9850 - val_f1_m: 0.9875 - val_auc_1: 0.9990\n",
            "Epoch 23/40\n",
            "113/113 [==============================] - 1s 7ms/step - loss: 0.0483 - acc: 0.9848 - f1_m: 0.9874 - auc_1: 0.9967 - val_loss: 0.0568 - val_acc: 0.9800 - val_f1_m: 0.9829 - val_auc_1: 0.9984\n",
            "Epoch 24/40\n",
            "113/113 [==============================] - 1s 7ms/step - loss: 0.0361 - acc: 0.9886 - f1_m: 0.9901 - auc_1: 0.9978 - val_loss: 0.0830 - val_acc: 0.9725 - val_f1_m: 0.9771 - val_auc_1: 0.9942\n",
            "Epoch 25/40\n",
            "113/113 [==============================] - 1s 7ms/step - loss: 0.0497 - acc: 0.9903 - f1_m: 0.9907 - auc_1: 0.9957 - val_loss: 0.0461 - val_acc: 0.9825 - val_f1_m: 0.9854 - val_auc_1: 0.9991\n",
            "Epoch 26/40\n",
            "113/113 [==============================] - 1s 7ms/step - loss: 0.0360 - acc: 0.9886 - f1_m: 0.9900 - auc_1: 0.9976 - val_loss: 0.0486 - val_acc: 0.9825 - val_f1_m: 0.9841 - val_auc_1: 0.9973\n",
            "Epoch 27/40\n",
            "113/113 [==============================] - 1s 7ms/step - loss: 0.0466 - acc: 0.9887 - f1_m: 0.9901 - auc_1: 0.9959 - val_loss: 0.0469 - val_acc: 0.9825 - val_f1_m: 0.9843 - val_auc_1: 0.9963\n",
            "Epoch 28/40\n",
            "113/113 [==============================] - 1s 7ms/step - loss: 0.0432 - acc: 0.9898 - f1_m: 0.9910 - auc_1: 0.9967 - val_loss: 0.0715 - val_acc: 0.9800 - val_f1_m: 0.9829 - val_auc_1: 0.9952\n",
            "Epoch 29/40\n",
            "113/113 [==============================] - 1s 7ms/step - loss: 0.0396 - acc: 0.9886 - f1_m: 0.9891 - auc_1: 0.9965 - val_loss: 0.0386 - val_acc: 0.9850 - val_f1_m: 0.9868 - val_auc_1: 0.9993\n",
            "Epoch 30/40\n",
            "113/113 [==============================] - 1s 6ms/step - loss: 0.0298 - acc: 0.9907 - f1_m: 0.9916 - auc_1: 0.9986 - val_loss: 0.0665 - val_acc: 0.9800 - val_f1_m: 0.9827 - val_auc_1: 0.9959\n",
            "Epoch 31/40\n",
            "113/113 [==============================] - 1s 6ms/step - loss: 0.0280 - acc: 0.9920 - f1_m: 0.9933 - auc_1: 0.9978 - val_loss: 0.0862 - val_acc: 0.9800 - val_f1_m: 0.9826 - val_auc_1: 0.9943\n",
            "Epoch 32/40\n",
            "113/113 [==============================] - 1s 7ms/step - loss: 0.0258 - acc: 0.9934 - f1_m: 0.9944 - auc_1: 0.9985 - val_loss: 0.1157 - val_acc: 0.9700 - val_f1_m: 0.9746 - val_auc_1: 0.9915\n",
            "Epoch 33/40\n",
            "113/113 [==============================] - 1s 6ms/step - loss: 0.0352 - acc: 0.9906 - f1_m: 0.9923 - auc_1: 0.9974 - val_loss: 0.0924 - val_acc: 0.9750 - val_f1_m: 0.9781 - val_auc_1: 0.9950\n",
            "Epoch 34/40\n",
            "113/113 [==============================] - 1s 6ms/step - loss: 0.0422 - acc: 0.9911 - f1_m: 0.9920 - auc_1: 0.9965 - val_loss: 0.0746 - val_acc: 0.9825 - val_f1_m: 0.9846 - val_auc_1: 0.9957\n",
            "Epoch 35/40\n",
            "113/113 [==============================] - 1s 6ms/step - loss: 0.0244 - acc: 0.9914 - f1_m: 0.9918 - auc_1: 0.9995 - val_loss: 0.0637 - val_acc: 0.9825 - val_f1_m: 0.9843 - val_auc_1: 0.9940\n",
            "Epoch 36/40\n",
            "113/113 [==============================] - 1s 6ms/step - loss: 0.0241 - acc: 0.9932 - f1_m: 0.9939 - auc_1: 0.9986 - val_loss: 0.0720 - val_acc: 0.9825 - val_f1_m: 0.9843 - val_auc_1: 0.9941\n",
            "Epoch 37/40\n",
            "113/113 [==============================] - 1s 7ms/step - loss: 0.0245 - acc: 0.9918 - f1_m: 0.9927 - auc_1: 0.9990 - val_loss: 0.0748 - val_acc: 0.9825 - val_f1_m: 0.9846 - val_auc_1: 0.9955\n",
            "Epoch 38/40\n",
            "113/113 [==============================] - 1s 6ms/step - loss: 0.0311 - acc: 0.9917 - f1_m: 0.9929 - auc_1: 0.9980 - val_loss: 0.0606 - val_acc: 0.9825 - val_f1_m: 0.9850 - val_auc_1: 0.9961\n",
            "Epoch 39/40\n",
            "113/113 [==============================] - 1s 6ms/step - loss: 0.0310 - acc: 0.9911 - f1_m: 0.9926 - auc_1: 0.9981 - val_loss: 0.0591 - val_acc: 0.9800 - val_f1_m: 0.9826 - val_auc_1: 0.9959\n",
            "Epoch 40/40\n",
            "113/113 [==============================] - 1s 7ms/step - loss: 0.0206 - acc: 0.9902 - f1_m: 0.9915 - auc_1: 0.9996 - val_loss: 0.0763 - val_acc: 0.9750 - val_f1_m: 0.9781 - val_auc_1: 0.9934\n"
          ],
          "name": "stdout"
        }
      ]
    },
    {
      "cell_type": "code",
      "metadata": {
        "colab": {
          "base_uri": "https://localhost:8080/"
        },
        "id": "DR1i-88VMWZJ",
        "outputId": "b984ce27-30d6-4f29-f219-a1e5560dbbcb"
      },
      "source": [
        "loss_and_metrics_lstm = model.evaluate(x_test_lstm, y_test, batch_size=128)\r\n",
        "classes_lstm = model.predict(x_test_lstm, batch_size=128)"
      ],
      "execution_count": 30,
      "outputs": [
        {
          "output_type": "stream",
          "text": [
            "8/8 [==============================] - 0s 3ms/step - loss: 0.0363 - acc: 0.9900 - f1_m: 0.9906 - auc_1: 0.9988\n"
          ],
          "name": "stdout"
        }
      ]
    },
    {
      "cell_type": "code",
      "metadata": {
        "colab": {
          "base_uri": "https://localhost:8080/"
        },
        "id": "aKMecc9MkKRx",
        "outputId": "622e2a55-bf60-4523-9f8f-ba1b187e06e3"
      },
      "source": [
        "lstm_folds_acc = []\r\n",
        "lstm_folds_f1 = []\r\n",
        "lstm_folds_auc = []\r\n",
        "for i in range (10):\r\n",
        "  if i ==9:\r\n",
        "    x_test_lstm_folds = x_test_lstm[i*100:]\r\n",
        "    y_test_folds = y_test[i*100:]\r\n",
        "  else:\r\n",
        "    x_test_lstm_folds = x_test_lstm[100*i:100*(i+1)]\r\n",
        "    y_test_folds = y_test[100*i:100*(i+1)]\r\n",
        "  print(\"testing fold\", i+1, \"result\")\r\n",
        "  test_fold_result = model.evaluate(x_test_lstm_folds, y_test_folds, batch_size=128)\r\n",
        "  lstm_folds_acc.append(test_fold_result[1])\r\n",
        "  lstm_folds_f1.append(test_fold_result[2])\r\n",
        "  lstm_folds_auc.append(test_fold_result[3])\r\n",
        "print(sum(lstm_folds_acc)/len(lstm_folds_acc))\r\n",
        "print(sum(lstm_folds_f1)/len(lstm_folds_f1))\r\n",
        "print(sum(lstm_folds_auc)/len(lstm_folds_auc))"
      ],
      "execution_count": 31,
      "outputs": [
        {
          "output_type": "stream",
          "text": [
            "testing fold 1 result\n",
            "1/1 [==============================] - 0s 16ms/step - loss: 0.0520 - acc: 0.9800 - f1_m: 0.9831 - auc_1: 0.9996\n",
            "testing fold 2 result\n",
            "1/1 [==============================] - 0s 16ms/step - loss: 0.0248 - acc: 0.9900 - f1_m: 0.9913 - auc_1: 1.0000\n",
            "testing fold 3 result\n",
            "1/1 [==============================] - 0s 18ms/step - loss: 0.0154 - acc: 1.0000 - f1_m: 1.0000 - auc_1: 1.0000\n",
            "testing fold 4 result\n",
            "1/1 [==============================] - 0s 17ms/step - loss: 0.0143 - acc: 1.0000 - f1_m: 1.0000 - auc_1: 1.0000\n",
            "testing fold 5 result\n",
            "1/1 [==============================] - 0s 17ms/step - loss: 0.0798 - acc: 0.9800 - f1_m: 0.9808 - auc_1: 0.9956\n",
            "testing fold 6 result\n",
            "1/1 [==============================] - 0s 16ms/step - loss: 0.0255 - acc: 0.9900 - f1_m: 0.9912 - auc_1: 1.0000\n",
            "testing fold 7 result\n",
            "1/1 [==============================] - 0s 19ms/step - loss: 0.0526 - acc: 0.9900 - f1_m: 0.9916 - auc_1: 0.9940\n",
            "testing fold 8 result\n",
            "1/1 [==============================] - 0s 16ms/step - loss: 0.0321 - acc: 0.9900 - f1_m: 0.9910 - auc_1: 1.0000\n",
            "testing fold 9 result\n",
            "1/1 [==============================] - 0s 19ms/step - loss: 0.0305 - acc: 0.9900 - f1_m: 0.9877 - auc_1: 1.0000\n",
            "testing fold 10 result\n",
            "1/1 [==============================] - 0s 17ms/step - loss: 0.0357 - acc: 0.9900 - f1_m: 0.9910 - auc_1: 1.0000\n",
            "0.9900000095367432\n",
            "0.9907507359981537\n",
            "0.9989185094833374\n"
          ],
          "name": "stdout"
        }
      ]
    },
    {
      "cell_type": "code",
      "metadata": {
        "id": "06ijz8uhTl5Z",
        "colab": {
          "base_uri": "https://localhost:8080/"
        },
        "outputId": "56c487ec-37f7-446a-e77f-82d061fc3dc1"
      },
      "source": [
        "history_dict_lstm = lstm.history\r\n",
        "history_dict_lstm.keys()"
      ],
      "execution_count": 32,
      "outputs": [
        {
          "output_type": "execute_result",
          "data": {
            "text/plain": [
              "dict_keys(['loss', 'acc', 'f1_m', 'auc_1', 'val_loss', 'val_acc', 'val_f1_m', 'val_auc_1'])"
            ]
          },
          "metadata": {
            "tags": []
          },
          "execution_count": 32
        }
      ]
    },
    {
      "cell_type": "code",
      "metadata": {
        "colab": {
          "base_uri": "https://localhost:8080/",
          "height": 295
        },
        "id": "mJTy8JeRbYU-",
        "outputId": "19aa14c1-fa8e-41eb-d3e0-6cb096be5cc3"
      },
      "source": [
        "acc = lstm.history['acc']\r\n",
        "val_acc = lstm.history['val_acc']\r\n",
        "loss = lstm.history['loss']\r\n",
        "val_loss = lstm.history['val_loss']\r\n",
        " \r\n",
        "epochs = range(1, len(acc) + 1)\r\n",
        " \r\n",
        "# \"bo\" is for \"blue dot\"\r\n",
        "plt.plot(epochs, loss, 'r', label='Training loss')\r\n",
        "# b is for \"solid blue line\"\r\n",
        "plt.plot(epochs, val_loss, 'b', label='Validation loss')\r\n",
        "plt.title('LSTM Training and validation loss')\r\n",
        "plt.xlabel('Epochs')\r\n",
        "plt.ylabel('Loss')\r\n",
        "plt.legend()\r\n",
        " \r\n",
        "plt.show()"
      ],
      "execution_count": 33,
      "outputs": [
        {
          "output_type": "display_data",
          "data": {
            "image/png": "[encoded data removed]",
            "text/plain": [
              "<Figure size 432x288 with 1 Axes>"
            ]
          },
          "metadata": {
            "tags": [],
            "needs_background": "light"
          }
        }
      ]
    },
    {
      "cell_type": "code",
      "metadata": {
        "colab": {
          "base_uri": "https://localhost:8080/",
          "height": 295
        },
        "id": "6H0BVwOTbnto",
        "outputId": "a1477b73-568c-48d8-d137-e1e7bc71141b"
      },
      "source": [
        "plt.clf()   # clear figure\r\n",
        "acc_values = history_dict_lstm['acc']\r\n",
        "val_acc_values = history_dict_lstm['val_acc']\r\n",
        "f1_values = history_dict_lstm['f1_m']\r\n",
        "auc_values = history_dict_lstm['auc_1']\r\n",
        " \r\n",
        "plt.plot(epochs, acc_values, 'r', label='Training acc')\r\n",
        "plt.plot(epochs, val_acc_values, 'b', label='Validation acc')\r\n",
        "plt.plot(epochs, f1_values, 'y', label='Training F1')\r\n",
        "plt.plot(epochs, auc_values, 'g', label='Training AUC')\r\n",
        "\r\n",
        "plt.title('LSTM Training and Validation Measures Performance')\r\n",
        "plt.xlabel('Epochs')\r\n",
        "plt.ylabel('Index Value')\r\n",
        "plt.legend()\r\n",
        "\r\n",
        "plt.show()"
      ],
      "execution_count": 34,
      "outputs": [
        {
          "output_type": "display_data",
          "data": {
            "image/png": "[encoded data removed]",
            "text/plain": [
              "<Figure size 432x288 with 1 Axes>"
            ]
          },
          "metadata": {
            "tags": [],
            "needs_background": "light"
          }
        }
      ]
    },
    {
      "cell_type": "code",
      "metadata": {
        "id": "o_xlW9BNbv7D",
        "colab": {
          "base_uri": "https://localhost:8080/"
        },
        "outputId": "d3132417-0f0c-411c-cbf9-5708db1cb597"
      },
      "source": [
        "from scipy.stats import ranksums, ttest_ind\r\n",
        "\r\n",
        "print(\"Non-parametric test\")\r\n",
        "sta_test = ranksums(lstm_folds_acc,cnn_folds_acc)\r\n",
        "print(\"compare on accuracy\",sta_test)\r\n",
        "\r\n",
        "sta_test = ranksums(lstm_folds_f1,cnn_folds_f1)\r\n",
        "print(\"compare on f1-score\",sta_test)\r\n",
        "\r\n",
        "sta_test = ranksums(lstm_folds_auc,cnn_folds_auc)\r\n",
        "print(\"compare on AUC\",sta_test)\r\n",
        "\r\n",
        "print(\" \\n\\n\\nPparametric test\")\r\n",
        "sta_test = ttest_ind(lstm_folds_acc,cnn_folds_acc)\r\n",
        "print(\"compare on accuracy\",sta_test)\r\n",
        "\r\n",
        "sta_test = ttest_ind(lstm_folds_f1,cnn_folds_f1)\r\n",
        "print(\"compare on f1-score\",sta_test)\r\n",
        "\r\n",
        "sta_test = ttest_ind(lstm_folds_auc,cnn_folds_auc)\r\n",
        "print(\"compare on AUC\",sta_test)"
      ],
      "execution_count": 35,
      "outputs": [
        {
          "output_type": "stream",
          "text": [
            "Non-parametric test\n",
            "compare on accuracy RanksumsResult(statistic=0.37796447300922725, pvalue=0.7054569861112734)\n",
            "compare on f1-score RanksumsResult(statistic=0.41576092031014994, pvalue=0.6775849579524755)\n",
            "compare on AUC RanksumsResult(statistic=0.8315218406202999, pvalue=0.40567889528505297)\n",
            " \n",
            "\n",
            "\n",
            "Pparametric test\n",
            "compare on accuracy Ttest_indResult(statistic=0.6689654659390151, pvalue=0.512006856181082)\n",
            "compare on f1-score Ttest_indResult(statistic=0.6465662406343801, pvalue=0.5260719661605877)\n",
            "compare on AUC Ttest_indResult(statistic=1.2632019538619461, pvalue=0.22263445344978294)\n"
          ],
          "name": "stdout"
        }
      ]
    },
    {
      "cell_type": "code",
      "metadata": {
        "id": "98QMSfUivr3f"
      },
      "source": [
        ""
      ],
      "execution_count": 35,
      "outputs": []
    }
  ]
}